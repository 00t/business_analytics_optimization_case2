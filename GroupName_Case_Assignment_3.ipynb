{
 "cells": [
  {
   "cell_type": "markdown",
   "metadata": {},
   "source": [
    "# Case Assignment 3\n",
    "adapted from *Practical Management Science*\n",
    "\n",
    "## Hedging Risk\n",
    "``Kate Torelli, a security analyst for Lion-Fund, has identified a gold mining stock (ticker symbol GMS) as a particularly attractive investment. Torelli believes that the company has invested wisely in new mining equipment. Furthermore, the company has recently purchased mining rights on land that has high potential for successful gold extraction. Torelli notes that gold has underperformed the stock market in the last decade and believes that the time is ripe for a large increase in gold prices. In addition, she reasons that conditions in the global monetary system make it likely that investors may once again turn to gold as a safe haven in which to park assets. Finally, supply and demand conditions have improved to the point where there could be significant upward pressure on gold prices.\n",
    "\n",
    "GMS is a highly leveraged company, so it is a risky investment by itself. Torelli is mindful of a passage from the annual report of a competitor, Baupost, which has an extraordinarily successful investment record: “Baupost has managed a decade of consistently profitable results despite, and perhaps in some respect due to, consistent emphasis on the avoidance of downside risk. We have frequently carried both high cash balances and costly market hedges. Our results are particularly satisfying when considered in the light of this sustained risk aversion.” She would therefore like to hedge the stock purchase—that is, reduce the risk of an investment in GMS stock.\n",
    "\n",
    "Currently GMS is trading at $100 per share. Torelli has constructed seven scenarios for the price of GMS stock one month from now. These scenarios and corresponding probabilities are shown below.\n",
    "\n",
    "To hedge an investment in GMS stock, Torelli can invest in other securities whose prices tend to move in the direction opposite to that of GMS stock. In particular, she is considering over-the-counter put options on GMS stock as potential hedging instruments. The value of a put option increases as the price of the underlying stock decreases. For example, consider a put option with a strike price of $100 and a time to expiration of one month. This means that the owner of the put has the right to sell GMS stock at $100 per share one month in the future. Suppose that the price of GMS falls to $80 at that time. Then the holder of the put option can exercise the option and receive (100 - 80) . If the price of GMS falls to $70, the option would be worth (100 - 70). However, if the price of GMS rises to $100 or more, the option expires worthless.\n",
    "\n",
    "Torelli called an options trader at a large investment bank for quotes. The prices for three (European-style) put options are shown below. Torelli wants to invest $10 million in GMS stock and put options.\n"
   ]
  },
  {
   "cell_type": "code",
   "execution_count": 1,
   "metadata": {},
   "outputs": [],
   "source": [
    "from itertools import product\n",
    "import numpy as np\n",
    "import pandas as pd\n",
    "from matplotlib import pyplot as plt\n",
    "from copy import deepcopy\n",
    "from scipy.optimize import fsolve\n",
    "import scipy.stats as ss\n",
    "\n",
    "np.random.seed(42)"
   ]
  },
  {
   "cell_type": "code",
   "execution_count": 2,
   "metadata": {},
   "outputs": [],
   "source": [
    "scenarios = {\n",
    "\t0: {\"prob\": .05, \"stock_price\": 150},\n",
    "\t1: {\"prob\": .1, \"stock_price\": 130},\n",
    "\t2: {\"prob\": .2, \"stock_price\": 110},\n",
    "\t3: {\"prob\": .3, \"stock_price\": 100},\n",
    "\t4: {\"prob\": .2, \"stock_price\": 90},\n",
    "\t5: {\"prob\": .1, \"stock_price\": 80},\n",
    "\t6: {\"prob\": .05, \"stock_price\": 70}\n",
    "}\n",
    "\n",
    "options = {\n",
    "    \"A\": {\"strike_price\": 90, \"option_price\": 2.20},\n",
    "    \"B\": {\"strike_price\": 100, \"option_price\": 6.40},\n",
    "    \"C\": {\"strike_price\": 110, \"option_price\": 12.50},\n",
    "}"
   ]
  },
  {
   "cell_type": "markdown",
   "metadata": {},
   "source": [
    "## Questions\n",
    "1. What is the mean and standard deviation of a return on GMS stock?\n",
    "    * Answer:\n",
    "2. If put option A is purchased, what is the mean and standard deviation of the return on GMS stock with the option?\n",
    "    * Answer:\n",
    "3. Assuming that Torelli’s goal is to minimize the standard deviation of the portfolio return, what is the optimal portfolio that invests all $10 million? (For simplicity, assume that fractional numbers of stock shares and put options can be purchased. Assume that the amounts invested in each security must be nonnegative. However, the number of options purchased need not equal the number of shares of stock purchased.) What are the mean return and standard deviation of return of this portfolio? How many shares of GMS stock and how many of each put option does this portfolio correspond to?\n",
    "    * Anser:\n",
    "4. Suppose that an option with strike price $120 were available. What would you pay for this option? How do your answers to question 3 above change?\n",
    "    * Answer: "
   ]
  }
 ],
 "metadata": {
  "kernelspec": {
   "display_name": "BAN630",
   "language": "python",
   "name": "python3"
  },
  "language_info": {
   "codemirror_mode": {
    "name": "ipython",
    "version": 3
   },
   "file_extension": ".py",
   "mimetype": "text/x-python",
   "name": "python",
   "nbconvert_exporter": "python",
   "pygments_lexer": "ipython3",
   "version": "3.12.1"
  }
 },
 "nbformat": 4,
 "nbformat_minor": 2
}
